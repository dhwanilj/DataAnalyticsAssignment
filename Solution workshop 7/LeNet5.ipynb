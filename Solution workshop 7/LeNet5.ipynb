{
  "cells": [
    {
      "cell_type": "markdown",
      "metadata": {
        "id": "EDbJWoO1yO8e"
      },
      "source": [
        "# Image Classification with CNN - LeNet5 architecture"
      ]
    },
    {
      "cell_type": "markdown",
      "metadata": {
        "id": "JzQxqD6HyO8i"
      },
      "source": [
        "In this exercise, we will apply the LeNet5 algorithm to the Fashion MNIST dataset and improve your performances."
      ]
    },
    {
      "cell_type": "markdown",
      "metadata": {
        "id": "XFyVotRvyO8j"
      },
      "source": [
        "We will first download the data:"
      ]
    },
    {
      "cell_type": "code",
      "execution_count": 1,
      "metadata": {
        "colab": {
          "base_uri": "https://localhost:8080/"
        },
        "id": "RTHLyL1fyO8j",
        "outputId": "576f4038-c60f-4263-c126-229c656e298a",
        "scrolled": true
      },
      "outputs": [
        {
          "output_type": "stream",
          "name": "stdout",
          "text": [
            "Downloading data from https://storage.googleapis.com/tensorflow/tf-keras-datasets/train-labels-idx1-ubyte.gz\n",
            "29515/29515 [==============================] - 0s 0us/step\n",
            "Downloading data from https://storage.googleapis.com/tensorflow/tf-keras-datasets/train-images-idx3-ubyte.gz\n",
            "26421880/26421880 [==============================] - 0s 0us/step\n",
            "Downloading data from https://storage.googleapis.com/tensorflow/tf-keras-datasets/t10k-labels-idx1-ubyte.gz\n",
            "5148/5148 [==============================] - 0s 0us/step\n",
            "Downloading data from https://storage.googleapis.com/tensorflow/tf-keras-datasets/t10k-images-idx3-ubyte.gz\n",
            "4422102/4422102 [==============================] - 0s 0us/step\n"
          ]
        },
        {
          "output_type": "execute_result",
          "data": {
            "text/plain": [
              "(60000, 28, 28)"
            ]
          },
          "metadata": {},
          "execution_count": 1
        }
      ],
      "source": [
        "# TODO: Load the dataset\n",
        "from tensorflow.keras.datasets import fashion_mnist\n",
        "\n",
        "(X_train, y_train), (X_test, y_test) = fashion_mnist.load_data()\n",
        "\n",
        "# # # If your computer is slow, try to use a subset of data, e.g.\n",
        "# X_train = X_train[:10000]\n",
        "# y_train = y_train[:10000]\n",
        "# X_test = X_test[:2000]\n",
        "# y_test = y_test[:2000]\n",
        "X_train.shape"
      ]
    },
    {
      "cell_type": "markdown",
      "metadata": {
        "id": "c8ShXIANyO8l"
      },
      "source": [
        "As you already know, this dataset contains 10 classes:\n",
        "* 0:\tT-shirt/top\n",
        "* 1:\tTrouser\n",
        "* 2:\tPullover\n",
        "* 3:\tDress\n",
        "* 4:\tCoat\n",
        "* 5:\tSandal\n",
        "* 6:\tShirt\n",
        "* 7:\tSneaker\n",
        "* 8:\tBag\n",
        "* 9:\tAnkle boot"
      ]
    },
    {
      "cell_type": "markdown",
      "metadata": {
        "id": "_BvNG0PbyO8l"
      },
      "source": [
        "You can have a look at some images if needed, even if you already know them."
      ]
    },
    {
      "cell_type": "code",
      "execution_count": 2,
      "metadata": {
        "colab": {
          "base_uri": "https://localhost:8080/",
          "height": 452
        },
        "id": "lnjqgv-GyO8m",
        "outputId": "250906b2-418e-4c25-bbee-affe7f87e724",
        "scrolled": true
      },
      "outputs": [
        {
          "output_type": "display_data",
          "data": {
            "text/plain": [
              "<Figure size 640x480 with 1 Axes>"
            ],
            "image/png": "[encoded data removed]"
          },
          "metadata": {}
        }
      ],
      "source": [
        "# TODO: Explore the data, display some input images\n",
        "%matplotlib inline\n",
        "import matplotlib.pyplot as plt\n",
        "import numpy as np\n",
        "\n",
        "label_class = ['top', 'trouser', 'pullover', 'dress', 'coat', 'sandal', 'shirt', 'sneaker', 'bag', 'ankle boot']\n",
        "\n",
        "idx = np.random.randint(X_train.shape[0])\n",
        "\n",
        "plt.imshow(X_train[idx], cmap='gray_r')\n",
        "plt.title(label_class[y_train[idx]])\n",
        "plt.show()"
      ]
    },
    {
      "cell_type": "markdown",
      "metadata": {
        "id": "AdYH6XW1yO8n"
      },
      "source": [
        "Make the data preparation and preprocessing: scale and reshape the data, put the labels to the good shape."
      ]
    },
    {
      "cell_type": "code",
      "execution_count": 3,
      "metadata": {
        "id": "fjv8XMPByO8o",
        "colab": {
          "base_uri": "https://localhost:8080/"
        },
        "outputId": "4e9cb9d0-29f1-4c46-ab2d-0d9ca2de1453"
      },
      "outputs": [
        {
          "output_type": "execute_result",
          "data": {
            "text/plain": [
              "(60000, 28, 28, 1)"
            ]
          },
          "metadata": {},
          "execution_count": 3
        }
      ],
      "source": [
        "# TODO: Make the data preparation\n",
        "from tensorflow.keras.utils import to_categorical\n",
        "\n",
        "y_train_cat = to_categorical(y_train, num_classes=10)\n",
        "y_test_cat = to_categorical(y_test, num_classes=10)\n",
        "\n",
        "X_train_norm = X_train/255\n",
        "X_test_norm = X_test/255\n",
        "\n",
        "X_train_norm = X_train_norm.reshape(X_train_norm.shape[0], 28, 28, 1)\n",
        "X_test_norm = X_test_norm.reshape(X_test_norm.shape[0], 28, 28, 1)\n",
        "\n",
        "X_train_norm.shape #Should be (60000, 28, 28, 1)"
      ]
    },
    {
      "cell_type": "markdown",
      "metadata": {
        "id": "y9LKzxR9yO8o"
      },
      "source": [
        "Now build the LeNet5 architecture. You can reuse the one of the course, or try to build it by yourself.\n",
        "\n",
        "The architecture is the following:\n",
        "\n",
        "<p align=\"center\">\n",
        "<img src=\"https://drive.google.com/uc?export=view&id=1WteTU2FPIVMkBKmMxGpFm5OjsX-szTbB\">\n",
        "</p>"
      ]
    },
    {
      "cell_type": "code",
      "execution_count": 5,
      "metadata": {
        "id": "GKyMFlL6yO8o",
        "colab": {
          "base_uri": "https://localhost:8080/"
        },
        "outputId": "9aabcdbb-cd2d-4c8b-c1a8-f65d27f41298"
      },
      "outputs": [
        {
          "output_type": "stream",
          "name": "stdout",
          "text": [
            "Model: \"sequential_1\"\n",
            "_________________________________________________________________\n",
            " Layer (type)                Output Shape              Param #   \n",
            "=================================================================\n",
            " C1 (Conv2D)                 (None, 26, 26, 6)         60        \n",
            "                                                                 \n",
            " S2 (MaxPooling2D)           (None, 13, 13, 6)         0         \n",
            "                                                                 \n",
            " C3 (Conv2D)                 (None, 11, 11, 16)        880       \n",
            "                                                                 \n",
            " S4 (MaxPooling2D)           (None, 5, 5, 16)          0         \n",
            "                                                                 \n",
            " flatten_1 (Flatten)         (None, 400)               0         \n",
            "                                                                 \n",
            " C5 (Dense)                  (None, 120)               48120     \n",
            "                                                                 \n",
            " F6 (Dense)                  (None, 84)                10164     \n",
            "                                                                 \n",
            " dense_1 (Dense)             (None, 10)                850       \n",
            "                                                                 \n",
            "=================================================================\n",
            "Total params: 60,074\n",
            "Trainable params: 60,074\n",
            "Non-trainable params: 0\n",
            "_________________________________________________________________\n"
          ]
        }
      ],
      "source": [
        "# TODO: Build your model\n",
        "from tensorflow.keras.models import Sequential\n",
        "from tensorflow.keras.layers import MaxPooling2D, Conv2D, Flatten, Dense\n",
        "\n",
        "\n",
        "def lenet5():\n",
        "    \n",
        "    model = Sequential()\n",
        "\n",
        "    # Layer C1\n",
        "    model.add(Conv2D(filters=6, name='C1', kernel_size=(3, 3), activation='relu', input_shape=(28,28,1)))\n",
        "    # Layer S2\n",
        "    model.add(MaxPooling2D(pool_size=(2, 2), name='S2'))\n",
        "    # Layer C3\n",
        "    model.add(Conv2D(filters=16, name='C3', kernel_size=(3, 3), activation='relu'))\n",
        "    # Layer S4\n",
        "    model.add(MaxPooling2D(pool_size=(2, 2), name='S4'))\n",
        "    # Before going into layer C5, we flatten our units\n",
        "    model.add(Flatten())\n",
        "    # Layer C5\n",
        "    model.add(Dense(120, activation='relu', name=\"C5\"))\n",
        "    # Layer F6\n",
        "    model.add(Dense(84, activation='relu', name=\"F6\"))\n",
        "    # Output layer\n",
        "    model.add(Dense(units=10, activation = 'softmax'))\n",
        "    \n",
        "    return model\n",
        "\n",
        "lenet5().summary()"
      ]
    },
    {
      "cell_type": "markdown",
      "metadata": {
        "id": "i1qBEauqyO8p"
      },
      "source": [
        "Now compile and fit your model on your training data. Since this is a multiclass classification, the loss is not `binary_crossentropy` anymore, but `categorical_crossentropy`."
      ]
    },
    {
      "cell_type": "code",
      "execution_count": 9,
      "metadata": {
        "colab": {
          "base_uri": "https://localhost:8080/"
        },
        "id": "nPL3aKnyyO8p",
        "outputId": "3ad704f8-2c87-4487-b593-fb8c3aa31744",
        "scrolled": true
      },
      "outputs": [
        {
          "output_type": "stream",
          "name": "stdout",
          "text": [
            "Epoch 1/100\n",
            "30/30 [==============================] - 3s 30ms/step - loss: 1.7531 - accuracy: 0.4488 - val_loss: 0.9998 - val_accuracy: 0.6857\n",
            "Epoch 2/100\n",
            "30/30 [==============================] - 0s 13ms/step - loss: 0.7971 - accuracy: 0.7131 - val_loss: 0.7081 - val_accuracy: 0.7337\n",
            "Epoch 3/100\n",
            "30/30 [==============================] - 0s 13ms/step - loss: 0.6452 - accuracy: 0.7550 - val_loss: 0.6126 - val_accuracy: 0.7667\n",
            "Epoch 4/100\n",
            "30/30 [==============================] - 0s 13ms/step - loss: 0.5717 - accuracy: 0.7826 - val_loss: 0.5641 - val_accuracy: 0.7881\n",
            "Epoch 5/100\n",
            "30/30 [==============================] - 0s 11ms/step - loss: 0.5256 - accuracy: 0.8011 - val_loss: 0.5402 - val_accuracy: 0.7947\n",
            "Epoch 6/100\n",
            "30/30 [==============================] - 0s 13ms/step - loss: 0.4931 - accuracy: 0.8155 - val_loss: 0.5006 - val_accuracy: 0.8157\n",
            "Epoch 7/100\n",
            "30/30 [==============================] - 0s 12ms/step - loss: 0.4704 - accuracy: 0.8257 - val_loss: 0.4870 - val_accuracy: 0.8231\n",
            "Epoch 8/100\n",
            "30/30 [==============================] - 0s 15ms/step - loss: 0.4498 - accuracy: 0.8353 - val_loss: 0.4699 - val_accuracy: 0.8288\n",
            "Epoch 9/100\n",
            "30/30 [==============================] - 0s 14ms/step - loss: 0.4359 - accuracy: 0.8397 - val_loss: 0.4572 - val_accuracy: 0.8335\n",
            "Epoch 10/100\n",
            "30/30 [==============================] - 0s 14ms/step - loss: 0.4245 - accuracy: 0.8439 - val_loss: 0.4423 - val_accuracy: 0.8396\n",
            "Epoch 11/100\n",
            "30/30 [==============================] - 0s 15ms/step - loss: 0.4139 - accuracy: 0.8494 - val_loss: 0.4415 - val_accuracy: 0.8336\n",
            "Epoch 12/100\n",
            "30/30 [==============================] - 0s 15ms/step - loss: 0.4043 - accuracy: 0.8541 - val_loss: 0.4310 - val_accuracy: 0.8457\n",
            "Epoch 13/100\n",
            "30/30 [==============================] - 0s 13ms/step - loss: 0.3944 - accuracy: 0.8569 - val_loss: 0.4314 - val_accuracy: 0.8463\n",
            "Epoch 14/100\n",
            "30/30 [==============================] - 0s 13ms/step - loss: 0.3871 - accuracy: 0.8605 - val_loss: 0.4050 - val_accuracy: 0.8557\n",
            "Epoch 15/100\n",
            "30/30 [==============================] - 0s 12ms/step - loss: 0.3775 - accuracy: 0.8636 - val_loss: 0.4096 - val_accuracy: 0.8525\n",
            "Epoch 16/100\n",
            "30/30 [==============================] - 0s 13ms/step - loss: 0.3703 - accuracy: 0.8663 - val_loss: 0.3970 - val_accuracy: 0.8598\n",
            "Epoch 17/100\n",
            "30/30 [==============================] - 0s 14ms/step - loss: 0.3640 - accuracy: 0.8681 - val_loss: 0.3931 - val_accuracy: 0.8571\n",
            "Epoch 18/100\n",
            "30/30 [==============================] - 0s 12ms/step - loss: 0.3618 - accuracy: 0.8678 - val_loss: 0.4002 - val_accuracy: 0.8520\n",
            "Epoch 19/100\n",
            "30/30 [==============================] - 0s 13ms/step - loss: 0.3586 - accuracy: 0.8686 - val_loss: 0.3979 - val_accuracy: 0.8539\n",
            "Epoch 20/100\n",
            "30/30 [==============================] - 0s 13ms/step - loss: 0.3569 - accuracy: 0.8704 - val_loss: 0.3763 - val_accuracy: 0.8635\n",
            "Epoch 21/100\n",
            "30/30 [==============================] - 0s 13ms/step - loss: 0.3437 - accuracy: 0.8755 - val_loss: 0.3688 - val_accuracy: 0.8668\n",
            "Epoch 22/100\n",
            "30/30 [==============================] - 0s 12ms/step - loss: 0.3416 - accuracy: 0.8767 - val_loss: 0.3657 - val_accuracy: 0.8666\n",
            "Epoch 23/100\n",
            "30/30 [==============================] - 0s 12ms/step - loss: 0.3346 - accuracy: 0.8791 - val_loss: 0.3691 - val_accuracy: 0.8650\n",
            "Epoch 24/100\n",
            "30/30 [==============================] - 0s 13ms/step - loss: 0.3363 - accuracy: 0.8780 - val_loss: 0.3636 - val_accuracy: 0.8670\n",
            "Epoch 25/100\n",
            "30/30 [==============================] - 0s 12ms/step - loss: 0.3282 - accuracy: 0.8816 - val_loss: 0.3630 - val_accuracy: 0.8705\n",
            "Epoch 26/100\n",
            "30/30 [==============================] - 0s 12ms/step - loss: 0.3266 - accuracy: 0.8815 - val_loss: 0.3570 - val_accuracy: 0.8684\n",
            "Epoch 27/100\n",
            "30/30 [==============================] - 0s 12ms/step - loss: 0.3230 - accuracy: 0.8825 - val_loss: 0.3573 - val_accuracy: 0.8685\n",
            "Epoch 28/100\n",
            "30/30 [==============================] - 0s 12ms/step - loss: 0.3190 - accuracy: 0.8840 - val_loss: 0.3548 - val_accuracy: 0.8693\n",
            "Epoch 29/100\n",
            "30/30 [==============================] - 0s 12ms/step - loss: 0.3147 - accuracy: 0.8861 - val_loss: 0.3450 - val_accuracy: 0.8735\n",
            "Epoch 30/100\n",
            "30/30 [==============================] - 0s 12ms/step - loss: 0.3125 - accuracy: 0.8854 - val_loss: 0.3434 - val_accuracy: 0.8757\n",
            "Epoch 31/100\n",
            "30/30 [==============================] - 0s 12ms/step - loss: 0.3079 - accuracy: 0.8886 - val_loss: 0.3481 - val_accuracy: 0.8742\n",
            "Epoch 32/100\n",
            "30/30 [==============================] - 0s 13ms/step - loss: 0.3094 - accuracy: 0.8874 - val_loss: 0.3486 - val_accuracy: 0.8744\n",
            "Epoch 33/100\n",
            "30/30 [==============================] - 0s 12ms/step - loss: 0.3052 - accuracy: 0.8892 - val_loss: 0.3501 - val_accuracy: 0.8733\n",
            "Epoch 34/100\n",
            "30/30 [==============================] - 0s 12ms/step - loss: 0.2992 - accuracy: 0.8909 - val_loss: 0.3295 - val_accuracy: 0.8795\n",
            "Epoch 35/100\n",
            "30/30 [==============================] - 0s 13ms/step - loss: 0.2998 - accuracy: 0.8913 - val_loss: 0.3449 - val_accuracy: 0.8738\n",
            "Epoch 36/100\n",
            "30/30 [==============================] - 0s 13ms/step - loss: 0.3040 - accuracy: 0.8878 - val_loss: 0.3438 - val_accuracy: 0.8737\n",
            "Epoch 37/100\n",
            "30/30 [==============================] - 0s 13ms/step - loss: 0.2996 - accuracy: 0.8900 - val_loss: 0.3256 - val_accuracy: 0.8820\n",
            "Epoch 38/100\n",
            "30/30 [==============================] - 0s 13ms/step - loss: 0.2898 - accuracy: 0.8949 - val_loss: 0.3424 - val_accuracy: 0.8716\n",
            "Epoch 39/100\n",
            "30/30 [==============================] - 0s 14ms/step - loss: 0.2898 - accuracy: 0.8943 - val_loss: 0.3255 - val_accuracy: 0.8820\n",
            "Epoch 40/100\n",
            "30/30 [==============================] - 0s 15ms/step - loss: 0.2892 - accuracy: 0.8939 - val_loss: 0.3277 - val_accuracy: 0.8817\n",
            "Epoch 41/100\n",
            "30/30 [==============================] - 0s 16ms/step - loss: 0.2850 - accuracy: 0.8953 - val_loss: 0.3249 - val_accuracy: 0.8820\n",
            "Epoch 42/100\n",
            "30/30 [==============================] - 0s 14ms/step - loss: 0.2838 - accuracy: 0.8958 - val_loss: 0.3247 - val_accuracy: 0.8824\n",
            "Epoch 43/100\n",
            "30/30 [==============================] - 0s 15ms/step - loss: 0.2808 - accuracy: 0.8967 - val_loss: 0.3175 - val_accuracy: 0.8824\n",
            "Epoch 44/100\n",
            "30/30 [==============================] - 0s 15ms/step - loss: 0.2787 - accuracy: 0.8973 - val_loss: 0.3253 - val_accuracy: 0.8824\n",
            "Epoch 45/100\n",
            "30/30 [==============================] - 0s 12ms/step - loss: 0.2804 - accuracy: 0.8967 - val_loss: 0.3196 - val_accuracy: 0.8817\n",
            "Epoch 46/100\n",
            "30/30 [==============================] - 0s 13ms/step - loss: 0.2733 - accuracy: 0.8999 - val_loss: 0.3180 - val_accuracy: 0.8847\n",
            "Epoch 47/100\n",
            "30/30 [==============================] - 0s 12ms/step - loss: 0.2724 - accuracy: 0.9003 - val_loss: 0.3130 - val_accuracy: 0.8829\n",
            "Epoch 48/100\n",
            "30/30 [==============================] - 0s 13ms/step - loss: 0.2719 - accuracy: 0.9006 - val_loss: 0.3151 - val_accuracy: 0.8861\n",
            "Epoch 49/100\n",
            "30/30 [==============================] - 0s 13ms/step - loss: 0.2676 - accuracy: 0.9022 - val_loss: 0.3103 - val_accuracy: 0.8863\n",
            "Epoch 50/100\n",
            "30/30 [==============================] - 0s 11ms/step - loss: 0.2741 - accuracy: 0.8990 - val_loss: 0.3115 - val_accuracy: 0.8853\n",
            "Epoch 51/100\n",
            "30/30 [==============================] - 0s 13ms/step - loss: 0.2672 - accuracy: 0.9020 - val_loss: 0.3103 - val_accuracy: 0.8849\n",
            "Epoch 52/100\n",
            "30/30 [==============================] - 0s 13ms/step - loss: 0.2654 - accuracy: 0.9029 - val_loss: 0.3103 - val_accuracy: 0.8870\n",
            "Epoch 53/100\n",
            "30/30 [==============================] - 0s 12ms/step - loss: 0.2612 - accuracy: 0.9050 - val_loss: 0.3097 - val_accuracy: 0.8872\n",
            "Epoch 54/100\n",
            "30/30 [==============================] - 0s 12ms/step - loss: 0.2606 - accuracy: 0.9040 - val_loss: 0.3109 - val_accuracy: 0.8884\n",
            "Epoch 55/100\n",
            "30/30 [==============================] - 0s 13ms/step - loss: 0.2607 - accuracy: 0.9038 - val_loss: 0.3167 - val_accuracy: 0.8806\n",
            "Epoch 56/100\n",
            "30/30 [==============================] - 0s 13ms/step - loss: 0.2608 - accuracy: 0.9050 - val_loss: 0.3249 - val_accuracy: 0.8829\n",
            "Epoch 57/100\n",
            "30/30 [==============================] - 0s 12ms/step - loss: 0.2570 - accuracy: 0.9066 - val_loss: 0.3094 - val_accuracy: 0.8874\n",
            "Epoch 58/100\n",
            "30/30 [==============================] - 0s 12ms/step - loss: 0.2564 - accuracy: 0.9065 - val_loss: 0.3102 - val_accuracy: 0.8880\n",
            "Epoch 59/100\n",
            "30/30 [==============================] - 0s 13ms/step - loss: 0.2551 - accuracy: 0.9064 - val_loss: 0.3052 - val_accuracy: 0.8893\n",
            "Epoch 60/100\n",
            "30/30 [==============================] - 0s 12ms/step - loss: 0.2520 - accuracy: 0.9078 - val_loss: 0.3154 - val_accuracy: 0.8847\n",
            "Epoch 61/100\n",
            "30/30 [==============================] - 0s 12ms/step - loss: 0.2537 - accuracy: 0.9061 - val_loss: 0.3138 - val_accuracy: 0.8861\n",
            "Epoch 62/100\n",
            "30/30 [==============================] - 0s 12ms/step - loss: 0.2517 - accuracy: 0.9076 - val_loss: 0.3051 - val_accuracy: 0.8902\n",
            "Epoch 63/100\n",
            "30/30 [==============================] - 0s 13ms/step - loss: 0.2453 - accuracy: 0.9100 - val_loss: 0.3014 - val_accuracy: 0.8892\n",
            "Epoch 64/100\n",
            "30/30 [==============================] - 1s 18ms/step - loss: 0.2443 - accuracy: 0.9105 - val_loss: 0.3022 - val_accuracy: 0.8894\n",
            "Epoch 65/100\n",
            "30/30 [==============================] - 0s 13ms/step - loss: 0.2429 - accuracy: 0.9118 - val_loss: 0.3069 - val_accuracy: 0.8861\n",
            "Epoch 66/100\n",
            "30/30 [==============================] - 0s 12ms/step - loss: 0.2423 - accuracy: 0.9109 - val_loss: 0.2972 - val_accuracy: 0.8943\n",
            "Epoch 67/100\n",
            "30/30 [==============================] - 0s 12ms/step - loss: 0.2417 - accuracy: 0.9109 - val_loss: 0.2989 - val_accuracy: 0.8922\n",
            "Epoch 68/100\n",
            "30/30 [==============================] - 0s 12ms/step - loss: 0.2425 - accuracy: 0.9105 - val_loss: 0.3083 - val_accuracy: 0.8888\n",
            "Epoch 69/100\n",
            "30/30 [==============================] - 0s 12ms/step - loss: 0.2411 - accuracy: 0.9122 - val_loss: 0.3076 - val_accuracy: 0.8882\n",
            "Epoch 70/100\n",
            "30/30 [==============================] - 0s 15ms/step - loss: 0.2357 - accuracy: 0.9136 - val_loss: 0.2954 - val_accuracy: 0.8931\n",
            "Epoch 71/100\n",
            "30/30 [==============================] - 0s 15ms/step - loss: 0.2379 - accuracy: 0.9121 - val_loss: 0.2971 - val_accuracy: 0.8923\n",
            "Epoch 72/100\n",
            "30/30 [==============================] - 0s 15ms/step - loss: 0.2342 - accuracy: 0.9143 - val_loss: 0.2956 - val_accuracy: 0.8914\n",
            "Epoch 73/100\n",
            "30/30 [==============================] - 0s 15ms/step - loss: 0.2346 - accuracy: 0.9129 - val_loss: 0.2969 - val_accuracy: 0.8923\n",
            "Epoch 74/100\n",
            "30/30 [==============================] - 0s 15ms/step - loss: 0.2322 - accuracy: 0.9148 - val_loss: 0.2980 - val_accuracy: 0.8932\n",
            "Epoch 75/100\n",
            "30/30 [==============================] - 0s 15ms/step - loss: 0.2333 - accuracy: 0.9140 - val_loss: 0.2995 - val_accuracy: 0.8930\n",
            "Epoch 76/100\n",
            "30/30 [==============================] - 0s 12ms/step - loss: 0.2295 - accuracy: 0.9159 - val_loss: 0.2955 - val_accuracy: 0.8952\n",
            "Epoch 77/100\n",
            "30/30 [==============================] - 0s 12ms/step - loss: 0.2289 - accuracy: 0.9154 - val_loss: 0.2921 - val_accuracy: 0.8942\n",
            "Epoch 78/100\n",
            "30/30 [==============================] - 0s 13ms/step - loss: 0.2317 - accuracy: 0.9153 - val_loss: 0.2977 - val_accuracy: 0.8929\n",
            "Epoch 79/100\n",
            "30/30 [==============================] - 0s 13ms/step - loss: 0.2252 - accuracy: 0.9168 - val_loss: 0.2910 - val_accuracy: 0.8957\n",
            "Epoch 80/100\n",
            "30/30 [==============================] - 0s 12ms/step - loss: 0.2256 - accuracy: 0.9165 - val_loss: 0.2918 - val_accuracy: 0.8949\n",
            "Epoch 81/100\n",
            "30/30 [==============================] - 0s 12ms/step - loss: 0.2260 - accuracy: 0.9172 - val_loss: 0.2910 - val_accuracy: 0.8957\n",
            "Epoch 82/100\n",
            "30/30 [==============================] - 0s 12ms/step - loss: 0.2212 - accuracy: 0.9183 - val_loss: 0.2894 - val_accuracy: 0.8954\n",
            "Epoch 83/100\n",
            "30/30 [==============================] - 0s 12ms/step - loss: 0.2213 - accuracy: 0.9191 - val_loss: 0.2956 - val_accuracy: 0.8920\n",
            "Epoch 84/100\n",
            "30/30 [==============================] - 0s 13ms/step - loss: 0.2199 - accuracy: 0.9179 - val_loss: 0.3004 - val_accuracy: 0.8903\n",
            "Epoch 85/100\n",
            "30/30 [==============================] - 0s 14ms/step - loss: 0.2201 - accuracy: 0.9184 - val_loss: 0.3058 - val_accuracy: 0.8922\n",
            "Epoch 86/100\n",
            "30/30 [==============================] - 0s 13ms/step - loss: 0.2166 - accuracy: 0.9203 - val_loss: 0.2905 - val_accuracy: 0.8963\n",
            "Epoch 87/100\n",
            "30/30 [==============================] - 0s 12ms/step - loss: 0.2145 - accuracy: 0.9213 - val_loss: 0.2978 - val_accuracy: 0.8895\n",
            "Epoch 88/100\n",
            "30/30 [==============================] - 0s 13ms/step - loss: 0.2154 - accuracy: 0.9207 - val_loss: 0.3107 - val_accuracy: 0.8897\n",
            "Epoch 89/100\n",
            "30/30 [==============================] - 0s 11ms/step - loss: 0.2225 - accuracy: 0.9168 - val_loss: 0.2922 - val_accuracy: 0.8950\n",
            "Epoch 90/100\n",
            "30/30 [==============================] - 0s 13ms/step - loss: 0.2135 - accuracy: 0.9213 - val_loss: 0.2892 - val_accuracy: 0.8953\n",
            "Epoch 91/100\n",
            "30/30 [==============================] - 0s 12ms/step - loss: 0.2118 - accuracy: 0.9222 - val_loss: 0.2943 - val_accuracy: 0.8950\n",
            "Epoch 92/100\n",
            "30/30 [==============================] - 0s 12ms/step - loss: 0.2140 - accuracy: 0.9210 - val_loss: 0.2981 - val_accuracy: 0.8939\n",
            "Epoch 93/100\n",
            "30/30 [==============================] - 0s 14ms/step - loss: 0.2101 - accuracy: 0.9215 - val_loss: 0.2877 - val_accuracy: 0.8952\n",
            "Epoch 94/100\n",
            "30/30 [==============================] - 0s 12ms/step - loss: 0.2070 - accuracy: 0.9231 - val_loss: 0.2885 - val_accuracy: 0.8964\n",
            "Epoch 95/100\n",
            "30/30 [==============================] - 0s 12ms/step - loss: 0.2068 - accuracy: 0.9241 - val_loss: 0.2960 - val_accuracy: 0.8899\n",
            "Epoch 96/100\n",
            "30/30 [==============================] - 0s 12ms/step - loss: 0.2057 - accuracy: 0.9237 - val_loss: 0.2878 - val_accuracy: 0.8952\n",
            "Epoch 97/100\n",
            "30/30 [==============================] - 0s 13ms/step - loss: 0.2042 - accuracy: 0.9249 - val_loss: 0.2891 - val_accuracy: 0.8977\n",
            "Epoch 98/100\n",
            "30/30 [==============================] - 0s 13ms/step - loss: 0.2035 - accuracy: 0.9250 - val_loss: 0.2847 - val_accuracy: 0.8974\n",
            "Epoch 99/100\n",
            "30/30 [==============================] - 0s 12ms/step - loss: 0.2012 - accuracy: 0.9260 - val_loss: 0.2891 - val_accuracy: 0.8972\n",
            "Epoch 100/100\n",
            "30/30 [==============================] - 0s 13ms/step - loss: 0.2021 - accuracy: 0.9251 - val_loss: 0.2869 - val_accuracy: 0.8963\n"
          ]
        },
        {
          "output_type": "execute_result",
          "data": {
            "text/plain": [
              "<keras.callbacks.History at 0x7f90d84a88b0>"
            ]
          },
          "metadata": {},
          "execution_count": 9
        }
      ],
      "source": [
        "# TODO: Compile and fit your model\n",
        "import os\n",
        "\n",
        "# os.environ['KMP_DUPLICATE_LIB_OK']='True' #https://stackoverflow.com/questions/53014306/error-15-initializing-libiomp5-dylib-but-found-libiomp5-dylib-already-initial\n",
        "\n",
        "\n",
        "from tensorflow.keras.callbacks import EarlyStopping\n",
        "from tensorflow.keras.callbacks import TensorBoard\n",
        "\n",
        "model = lenet5()\n",
        "\n",
        "model.compile(optimizer='adam', loss='categorical_crossentropy', metrics=['accuracy'])\n",
        "\n",
        "# Define now our callbacks\n",
        "# callbacks = [EarlyStopping(monitor='val_loss', patience=10), TensorBoard(log_dir='./keras-logs', histogram_freq=0, write_graph=True, write_images=True)]\n",
        "callbacks = [EarlyStopping(monitor='val_loss', patience=10)]\n",
        "\n",
        "# Finally fit the model\n",
        "model.fit(x=X_train_norm, y=y_train_cat, validation_data=(X_test_norm, y_test_cat), epochs=100, batch_size=2048, callbacks=callbacks)"
      ]
    },
    {
      "cell_type": "markdown",
      "metadata": {
        "id": "Rf-SqjjOyO8q"
      },
      "source": [
        "Have a look at the tensorboard and see if it gives a deeper understanding of your model."
      ]
    },
    {
      "cell_type": "markdown",
      "metadata": {
        "id": "k2FTj7TSyO8q"
      },
      "source": [
        "Compute then the accuracy of your model. Is it better than a regular MLP used before?"
      ]
    },
    {
      "cell_type": "code",
      "execution_count": 10,
      "metadata": {
        "colab": {
          "base_uri": "https://localhost:8080/"
        },
        "id": "rPjJoMQZyO8q",
        "outputId": "f3eb0eb6-a6a2-4f02-dc60-705919772c0e"
      },
      "outputs": [
        {
          "output_type": "stream",
          "name": "stdout",
          "text": [
            "59/59 [==============================] - 0s 3ms/step\n",
            "10/10 [==============================] - 0s 3ms/step\n",
            "accuracy on train with CNN: 0.9266333333333333\n",
            "accuracy on test with CNN: 0.8963\n"
          ]
        }
      ],
      "source": [
        "# TODO: Compute the accuracy of your model\n",
        "from sklearn.metrics import accuracy_score\n",
        "\n",
        "batch_size = 1024\n",
        "y_pred_train = to_categorical(model.predict(X_train_norm, batch_size=batch_size).argmax(axis=1), num_classes=10)\n",
        "y_pred_test = to_categorical(model.predict(X_test_norm, batch_size=batch_size).argmax(axis=1), num_classes=10)\n",
        "\n",
        "print('accuracy on train with CNN:', accuracy_score(y_pred_train, y_train_cat))\n",
        "print('accuracy on test with CNN:', accuracy_score(y_pred_test, y_test_cat))"
      ]
    },
    {
      "cell_type": "markdown",
      "metadata": {
        "id": "1vulsgHiyO8q"
      },
      "source": [
        "We will now add image augmentation to improve our results, especially we will try to reduce overfitting this way.\n",
        "\n",
        "To do so, you can use `ImageDataGenerator` from Keras that makes all the work for you (including rescaling), with the following parameter: \n",
        "* `horizontal_flip=True`\n",
        "\n",
        "For more info about how the `ImageDataGenerator` works, you can check out [this article](https://www.pyimagesearch.com/2019/07/08/keras-imagedatagenerator-and-data-augmentation/).\n",
        "\n",
        "Begin by creating an object `ImageDataGenerator` with this parameter."
      ]
    },
    {
      "cell_type": "code",
      "execution_count": 11,
      "metadata": {
        "ExecuteTime": {
          "end_time": "2020-08-19T11:58:37.442182Z",
          "start_time": "2020-08-19T11:58:37.438397Z"
        },
        "id": "pas-fMSIyO8q"
      },
      "outputs": [],
      "source": [
        "# TODO: Instantiate an ImageDataGenerator object\n",
        "from tensorflow.keras.preprocessing.image import ImageDataGenerator\n",
        "\n",
        "datagen = ImageDataGenerator(horizontal_flip=True)"
      ]
    },
    {
      "cell_type": "markdown",
      "metadata": {
        "id": "k7nCnu9syO8r"
      },
      "source": [
        "Finally, you can train your model using this generator, with the method `fit_generator` of your model and the method `flow` of your `ImageDataGenerator`."
      ]
    },
    {
      "cell_type": "code",
      "execution_count": 14,
      "metadata": {
        "colab": {
          "base_uri": "https://localhost:8080/"
        },
        "id": "Zt6wXa3IyO8r",
        "outputId": "4ec55403-c9a9-473e-b75e-1b31bb80ba3f",
        "scrolled": true
      },
      "outputs": [
        {
          "output_type": "stream",
          "name": "stdout",
          "text": [
            "Epoch 1/20\n",
            " 3/58 [>.............................] - ETA: 1s - loss: 0.1842 - accuracy: 0.9326"
          ]
        },
        {
          "output_type": "stream",
          "name": "stderr",
          "text": [
            "<ipython-input-14-f5442c0fba65>:3: UserWarning: `Model.fit_generator` is deprecated and will be removed in a future version. Please use `Model.fit`, which supports generators.\n",
            "  model.fit_generator(datagen.flow(X_train_norm, y_train_cat, batch_size=batch_size),\n"
          ]
        },
        {
          "output_type": "stream",
          "name": "stdout",
          "text": [
            "58/58 [==============================] - 3s 45ms/step - loss: 0.1890 - accuracy: 0.9305 - val_loss: 0.2753 - val_accuracy: 0.9034\n",
            "Epoch 2/20\n",
            "58/58 [==============================] - 3s 54ms/step - loss: 0.1867 - accuracy: 0.9312 - val_loss: 0.2810 - val_accuracy: 0.9017\n",
            "Epoch 3/20\n",
            "58/58 [==============================] - 3s 55ms/step - loss: 0.1864 - accuracy: 0.9302 - val_loss: 0.2729 - val_accuracy: 0.9053\n",
            "Epoch 4/20\n",
            "58/58 [==============================] - 2s 42ms/step - loss: 0.1822 - accuracy: 0.9334 - val_loss: 0.2799 - val_accuracy: 0.9015\n",
            "Epoch 5/20\n",
            "58/58 [==============================] - 2s 42ms/step - loss: 0.1855 - accuracy: 0.9311 - val_loss: 0.2748 - val_accuracy: 0.9052\n",
            "Epoch 6/20\n",
            "58/58 [==============================] - 3s 47ms/step - loss: 0.1831 - accuracy: 0.9318 - val_loss: 0.2726 - val_accuracy: 0.9057\n",
            "Epoch 7/20\n",
            "58/58 [==============================] - 3s 48ms/step - loss: 0.1795 - accuracy: 0.9337 - val_loss: 0.2742 - val_accuracy: 0.9057\n",
            "Epoch 8/20\n",
            "58/58 [==============================] - 2s 41ms/step - loss: 0.1816 - accuracy: 0.9335 - val_loss: 0.2719 - val_accuracy: 0.9051\n",
            "Epoch 9/20\n",
            "58/58 [==============================] - 3s 52ms/step - loss: 0.1778 - accuracy: 0.9337 - val_loss: 0.2879 - val_accuracy: 0.8994\n",
            "Epoch 10/20\n",
            "58/58 [==============================] - 3s 53ms/step - loss: 0.1774 - accuracy: 0.9345 - val_loss: 0.2823 - val_accuracy: 0.9005\n",
            "Epoch 11/20\n",
            "58/58 [==============================] - 4s 60ms/step - loss: 0.1760 - accuracy: 0.9344 - val_loss: 0.2803 - val_accuracy: 0.9042\n",
            "Epoch 12/20\n",
            "58/58 [==============================] - 3s 56ms/step - loss: 0.1768 - accuracy: 0.9358 - val_loss: 0.2778 - val_accuracy: 0.9040\n",
            "Epoch 13/20\n",
            "58/58 [==============================] - 3s 54ms/step - loss: 0.1745 - accuracy: 0.9353 - val_loss: 0.2765 - val_accuracy: 0.9042\n",
            "Epoch 14/20\n",
            "58/58 [==============================] - 3s 55ms/step - loss: 0.1715 - accuracy: 0.9369 - val_loss: 0.2715 - val_accuracy: 0.9078\n",
            "Epoch 15/20\n",
            "58/58 [==============================] - 2s 42ms/step - loss: 0.1743 - accuracy: 0.9355 - val_loss: 0.2836 - val_accuracy: 0.9061\n",
            "Epoch 16/20\n",
            "58/58 [==============================] - 3s 52ms/step - loss: 0.1712 - accuracy: 0.9369 - val_loss: 0.2798 - val_accuracy: 0.9048\n",
            "Epoch 17/20\n",
            "58/58 [==============================] - 3s 48ms/step - loss: 0.1725 - accuracy: 0.9359 - val_loss: 0.2794 - val_accuracy: 0.9062\n",
            "Epoch 18/20\n",
            "58/58 [==============================] - 3s 55ms/step - loss: 0.1695 - accuracy: 0.9374 - val_loss: 0.2806 - val_accuracy: 0.9028\n",
            "Epoch 19/20\n",
            "58/58 [==============================] - 3s 46ms/step - loss: 0.1681 - accuracy: 0.9372 - val_loss: 0.2790 - val_accuracy: 0.9047\n",
            "Epoch 20/20\n",
            "58/58 [==============================] - 3s 59ms/step - loss: 0.1683 - accuracy: 0.9369 - val_loss: 0.2770 - val_accuracy: 0.9055\n"
          ]
        },
        {
          "output_type": "execute_result",
          "data": {
            "text/plain": [
              "<keras.callbacks.History at 0x7f90d82839a0>"
            ]
          },
          "metadata": {},
          "execution_count": 14
        }
      ],
      "source": [
        "# TODO: train your model\n",
        "batch_size = 1024\n",
        "model.fit_generator(datagen.flow(X_train_norm, y_train_cat, batch_size=batch_size),\n",
        "                    validation_data=(X_test_norm, y_test_cat), callbacks=callbacks,\n",
        "                    steps_per_epoch=len(X_train_norm) / batch_size, epochs=20)"
      ]
    },
    {
      "cell_type": "markdown",
      "metadata": {
        "id": "NuzFke8pyO8r"
      },
      "source": [
        "Recompute the accuracy of your model, does it improve your performances with data augmentation?\n",
        "\n",
        "Yes\n"
      ]
    },
    {
      "cell_type": "code",
      "execution_count": 15,
      "metadata": {
        "colab": {
          "base_uri": "https://localhost:8080/"
        },
        "id": "jsTm86tuyO8r",
        "outputId": "46c9c5e2-b5b8-42ad-bd38-ea36d172d61f"
      },
      "outputs": [
        {
          "output_type": "stream",
          "name": "stdout",
          "text": [
            "59/59 [==============================] - 0s 3ms/step\n",
            "10/10 [==============================] - 0s 3ms/step\n",
            "accuracy on train with CNN: 0.9433666666666667\n",
            "accuracy on test with CNN: 0.9055\n"
          ]
        }
      ],
      "source": [
        "# TODO: Compute the accuracy of your model\n",
        "from sklearn.metrics import accuracy_score\n",
        "\n",
        "batch_size=1024\n",
        "y_pred_train = to_categorical(model.predict(X_train_norm, batch_size=batch_size).argmax(axis=1), num_classes=10)\n",
        "y_pred_test = to_categorical(model.predict(X_test_norm, batch_size=batch_size).argmax(axis=1), num_classes=10)\n",
        "\n",
        "print('accuracy on train with CNN:', accuracy_score(y_pred_train, y_train_cat))\n",
        "print('accuracy on test with CNN:', accuracy_score(y_pred_test, y_test_cat))"
      ]
    },
    {
      "cell_type": "markdown",
      "metadata": {
        "id": "jOzkdGf7yO8s"
      },
      "source": [
        "You can now try to improve even more your results. For example, add more parameters to your `ImageDataGenerator`, play with some hyperparameters, and so on..."
      ]
    }
  ],
  "metadata": {
    "accelerator": "GPU",
    "colab": {
      "provenance": []
    },
    "kernelspec": {
      "display_name": "Python 3",
      "language": "python",
      "name": "python3"
    },
    "language_info": {
      "codemirror_mode": {
        "name": "ipython",
        "version": 3
      },
      "file_extension": ".py",
      "mimetype": "text/x-python",
      "name": "python",
      "nbconvert_exporter": "python",
      "pygments_lexer": "ipython3",
      "version": "3.7.4"
    },
    "toc": {
      "base_numbering": 1,
      "nav_menu": {},
      "number_sections": true,
      "sideBar": true,
      "skip_h1_title": false,
      "title_cell": "Table of Contents",
      "title_sidebar": "Contents",
      "toc_cell": false,
      "toc_position": {},
      "toc_section_display": true,
      "toc_window_display": false
    },
    "varInspector": {
      "cols": {
        "lenName": 16,
        "lenType": 16,
        "lenVar": 40
      },
      "kernels_config": {
        "python": {
          "delete_cmd_postfix": "",
          "delete_cmd_prefix": "del ",
          "library": "var_list.py",
          "varRefreshCmd": "print(var_dic_list())"
        },
        "r": {
          "delete_cmd_postfix": ") ",
          "delete_cmd_prefix": "rm(",
          "library": "var_list.r",
          "varRefreshCmd": "cat(var_dic_list()) "
        }
      },
      "types_to_exclude": [
        "module",
        "function",
        "builtin_function_or_method",
        "instance",
        "_Feature"
      ],
      "window_display": false
    }
  },
  "nbformat": 4,
  "nbformat_minor": 0
}